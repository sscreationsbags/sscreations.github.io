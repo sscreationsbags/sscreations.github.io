{
 "cells": [
  {
   "cell_type": "code",
   "execution_count": 1,
   "metadata": {},
   "outputs": [],
   "source": [
    "import pandas as pd\n",
    "import string"
   ]
  },
  {
   "cell_type": "code",
   "execution_count": 2,
   "metadata": {},
   "outputs": [
    {
     "data": {
      "text/html": [
       "<div>\n",
       "<style scoped>\n",
       "    .dataframe tbody tr th:only-of-type {\n",
       "        vertical-align: middle;\n",
       "    }\n",
       "\n",
       "    .dataframe tbody tr th {\n",
       "        vertical-align: top;\n",
       "    }\n",
       "\n",
       "    .dataframe thead th {\n",
       "        text-align: right;\n",
       "    }\n",
       "</style>\n",
       "<table border=\"1\" class=\"dataframe\">\n",
       "  <thead>\n",
       "    <tr style=\"text-align: right;\">\n",
       "      <th></th>\n",
       "      <th>name</th>\n",
       "      <th>printing</th>\n",
       "      <th>image_path</th>\n",
       "    </tr>\n",
       "  </thead>\n",
       "  <tbody>\n",
       "    <tr>\n",
       "      <th>0</th>\n",
       "      <td>Bopp Bag</td>\n",
       "      <td>Cylinder Printing</td>\n",
       "      <td>boppbag.jpg</td>\n",
       "    </tr>\n",
       "    <tr>\n",
       "      <th>1</th>\n",
       "      <td>Non Woven Common Bags</td>\n",
       "      <td>Rotogravure, Screen</td>\n",
       "      <td>commonbag.jpg</td>\n",
       "    </tr>\n",
       "    <tr>\n",
       "      <th>2</th>\n",
       "      <td>BOPP Laminated PP Woven Fabric Box Bag</td>\n",
       "      <td>Cylinder Printing</td>\n",
       "      <td>laminatedbag.jpg</td>\n",
       "    </tr>\n",
       "    <tr>\n",
       "      <th>3</th>\n",
       "      <td>D Cut Bag</td>\n",
       "      <td>Screen</td>\n",
       "      <td>dcutbag.jpg</td>\n",
       "    </tr>\n",
       "    <tr>\n",
       "      <th>4</th>\n",
       "      <td>Jute Bags</td>\n",
       "      <td>Screen</td>\n",
       "      <td>jutebags.jpg</td>\n",
       "    </tr>\n",
       "    <tr>\n",
       "      <th>5</th>\n",
       "      <td>Non Woven Stitched Bags</td>\n",
       "      <td>Rotogravure, Flexographic, Screen</td>\n",
       "      <td>sareebag.jpg</td>\n",
       "    </tr>\n",
       "    <tr>\n",
       "      <th>6</th>\n",
       "      <td>Ziplock Bag</td>\n",
       "      <td>Screen</td>\n",
       "      <td>ziplockbag.jpg</td>\n",
       "    </tr>\n",
       "    <tr>\n",
       "      <th>7</th>\n",
       "      <td>Zippouch</td>\n",
       "      <td>Screen</td>\n",
       "      <td>zippouch.jpg</td>\n",
       "    </tr>\n",
       "  </tbody>\n",
       "</table>\n",
       "</div>"
      ],
      "text/plain": [
       "                                     name                           printing  \\\n",
       "0                               Bopp Bag                   Cylinder Printing   \n",
       "1                   Non Woven Common Bags                Rotogravure, Screen   \n",
       "2  BOPP Laminated PP Woven Fabric Box Bag                  Cylinder Printing   \n",
       "3                              D Cut Bag                             Screen    \n",
       "4                               Jute Bags                            Screen    \n",
       "5                 Non Woven Stitched Bags  Rotogravure, Flexographic, Screen   \n",
       "6                            Ziplock Bag                             Screen    \n",
       "7                               Zippouch                             Screen    \n",
       "\n",
       "         image_path  \n",
       "0       boppbag.jpg  \n",
       "1     commonbag.jpg  \n",
       "2  laminatedbag.jpg  \n",
       "3       dcutbag.jpg  \n",
       "4      jutebags.jpg  \n",
       "5      sareebag.jpg  \n",
       "6    ziplockbag.jpg  \n",
       "7      zippouch.jpg  "
      ]
     },
     "execution_count": 2,
     "metadata": {},
     "output_type": "execute_result"
    }
   ],
   "source": [
    "df = pd.read_excel(\"categories.xlsx\")\n",
    "df"
   ]
  },
  {
   "cell_type": "code",
   "execution_count": 5,
   "metadata": {},
   "outputs": [
    {
     "name": "stdout",
     "output_type": "stream",
     "text": [
      "<div class=\"container\">\n",
      "<div class=\"card\"><div class=\"img\"><img src=assets/pictures/bags/boppbag.jpg></div><div class=\"card-text\"><h2>Bopp Bag </h2><h3>Printing Style: Cylinder Printing</h3></div></div>\n",
      "<div class=\"card\"><div class=\"img\"><img src=assets/pictures/bags/commonbag.jpg></div><div class=\"card-text\"><h2>Non Woven Common Bags</h2><h3>Printing Style: Rotogravure, Screen</h3></div></div>\n",
      "<div class=\"card\"><div class=\"img\"><img src=assets/pictures/bags/laminatedbag.jpg></div><div class=\"card-text\"><h2>BOPP Laminated PP Woven Fabric Box Bag</h2><h3>Printing Style: Cylinder Printing</h3></div></div>\n",
      "<div class=\"card\"><div class=\"img\"><img src=assets/pictures/bags/dcutbag.jpg></div><div class=\"card-text\"><h2>D Cut Bag </h2><h3>Printing Style: Screen </h3></div></div>\n",
      "<div class=\"card\"><div class=\"img\"><img src=assets/pictures/bags/jutebags.jpg></div><div class=\"card-text\"><h2>Jute Bags</h2><h3>Printing Style: Screen </h3></div></div>\n",
      "<div class=\"card\"><div class=\"img\"><img src=assets/pictures/bags/sareebag.jpg></div><div class=\"card-text\"><h2>Non Woven Stitched Bags</h2><h3>Printing Style: Rotogravure, Flexographic, Screen</h3></div></div>\n",
      "<div class=\"card\"><div class=\"img\"><img src=assets/pictures/bags/ziplockbag.jpg></div><div class=\"card-text\"><h2>Ziplock Bag </h2><h3>Printing Style: Screen </h3></div></div>\n",
      "<div class=\"card\"><div class=\"img\"><img src=assets/pictures/bags/zippouch.jpg></div><div class=\"card-text\"><h2>Zippouch </h2><h3>Printing Style: Screen </h3></div></div>\n",
      "</div>\n"
     ]
    }
   ],
   "source": [
    "print('<div class=\"container\">')\n",
    "for index, row in df.iterrows():\n",
    "    image_path = str(row[\"image_path\"])\n",
    "    printing = str(row[\"printing\"])\n",
    "    name = str(row['name'])\n",
    "    if image_path == \"nan\":\n",
    "        image_path = \"\"\n",
    "    if printing == \"nan\":\n",
    "        printing = \"\"\n",
    "    print('<div class=\"card\"><div class=\"img\"><img src=assets/pictures/categories/' + image_path + '></div><div class=\"card-text\"><h2>' + name + '</h2><h3>Printing Style: ' + printing + '</h3></div></div>')\n",
    "print('</div>')"
   ]
  },
  {
   "cell_type": "code",
   "execution_count": null,
   "metadata": {},
   "outputs": [],
   "source": []
  }
 ],
 "metadata": {
  "kernelspec": {
   "display_name": "Python 3 (ipykernel)",
   "language": "python",
   "name": "python3"
  },
  "language_info": {
   "codemirror_mode": {
    "name": "ipython",
    "version": 3
   },
   "file_extension": ".py",
   "mimetype": "text/x-python",
   "name": "python",
   "nbconvert_exporter": "python",
   "pygments_lexer": "ipython3",
   "version": "3.8.10"
  }
 },
 "nbformat": 4,
 "nbformat_minor": 4
}
